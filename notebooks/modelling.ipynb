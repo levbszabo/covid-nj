{
 "cells": [
  {
   "cell_type": "code",
   "execution_count": 53,
   "metadata": {},
   "outputs": [
    {
     "data": {
      "text/html": [
       "<div>\n",
       "<style scoped>\n",
       "    .dataframe tbody tr th:only-of-type {\n",
       "        vertical-align: middle;\n",
       "    }\n",
       "\n",
       "    .dataframe tbody tr th {\n",
       "        vertical-align: top;\n",
       "    }\n",
       "\n",
       "    .dataframe thead th {\n",
       "        text-align: right;\n",
       "    }\n",
       "</style>\n",
       "<table border=\"1\" class=\"dataframe\">\n",
       "  <thead>\n",
       "    <tr style=\"text-align: right;\">\n",
       "      <th></th>\n",
       "      <th>county</th>\n",
       "      <th>days</th>\n",
       "      <th>N</th>\n",
       "      <th>initial</th>\n",
       "      <th>min_c</th>\n",
       "      <th>r0</th>\n",
       "      <th>mean_duration</th>\n",
       "      <th>mean_latency</th>\n",
       "    </tr>\n",
       "  </thead>\n",
       "  <tbody>\n",
       "  </tbody>\n",
       "</table>\n",
       "</div>"
      ],
      "text/plain": [
       "Empty DataFrame\n",
       "Columns: [county, days, N, initial, min_c, r0, mean_duration, mean_latency]\n",
       "Index: []"
      ]
     },
     "execution_count": 53,
     "metadata": {},
     "output_type": "execute_result"
    }
   ],
   "source": [
    "import pandas as pd\n",
    "import numpy as np\n",
    "import matplotlib.pyplot as plt\n",
    "from scipy.integrate import solve_ivp\n",
    "from scipy.optimize import minimize\n",
    "pd.options.display.float_format = '{:.2f}'.format\n",
    "dataset = pd.read_excel(\"../data/processed/nj_clean.xlsx\")\n",
    "parameters = [\"county\",\"days\",\"N\",\"initial\",\"min_c\",\"r0\",\"mean_duration\",\"mean_latency\"]\n",
    "model_df = pd.DataFrame(columns = parameters)"
   ]
  },
  {
   "cell_type": "code",
   "execution_count": 59,
   "metadata": {},
   "outputs": [],
   "source": [
    "for i in range(16):\n",
    "    county = dataset.loc[i].values[0]\n",
    "    time_series = dataset.loc[i].values[1:]\n",
    "    time_series = time_series[time_series>1]\n",
    "    max_pop = time_series[-1]\n",
    "    if max_pop > 50:   \n",
    "        N = 10000\n",
    "    elif max_pop >=25:\n",
    "        N = 5000\n",
    "    else:\n",
    "        N = 1000\n",
    "    days = len(time_series)\n",
    "    min_rmse = 10000000000\n",
    "    min_c = 1\n",
    "    r0,mean_duration,mean_latency = [1,1,1]\n",
    "    C_values = [4,5,6,7,8,9]\n",
    "    for C in C_values:        \n",
    "        infected = time_series\n",
    "        initial = infected[0]\n",
    "        removed = 0.01*infected\n",
    "        def RMSE(p):\n",
    "            r0,mean_duration,mean_latency = p\n",
    "            def SEIR(t,y):\n",
    "                S = y[0]\n",
    "                E = y[1]\n",
    "                I = y[1]\n",
    "                R = y[2] \n",
    "                d_S = -S/N * (I*r0/mean_duration)   \n",
    "                d_E =  (S/N * (I*r0/mean_duration)) - (E/mean_latency)\n",
    "                d_I = E/mean_latency - I/mean_duration\n",
    "                d_R = I/mean_duration\n",
    "                return([d_S,d_E,d_I,d_R])\n",
    "            sol = solve_ivp(SEIR,[0,days],[N,C*initial,initial,0],t_eval=np.arange(0,days))\n",
    "            return((sum((sol.y[2]-infected)**2)+ sum((sol.y[3]-removed)**2)**(1/2)))\n",
    "        msol = minimize(RMSE,[5,10,2],method ='Nelder-Mead')\n",
    "       #print(\"r0: \"+str(ff(r0)),\"mean duration: \"+str(ff(mean_duration)),\"incubation: \"+str(ff(mean_latency)),\"C: \"+str(C))\n",
    "        error = RMSE(msol.x)\n",
    "        if error< min_rmse:\n",
    "            min_rmse = error\n",
    "            min_c = C\n",
    "            r0,mean_duration,mean_latency = msol.x\n",
    "            param = [county,days,N,initial,min_c,r0,mean_duration,mean_latency]\n",
    "            model_df.loc[i] = param"
   ]
  },
  {
   "cell_type": "code",
   "execution_count": 64,
   "metadata": {},
   "outputs": [],
   "source": [
    "model_df.to_excel(\"model_weights.xlsx\")"
   ]
  },
  {
   "cell_type": "code",
   "execution_count": null,
   "metadata": {},
   "outputs": [],
   "source": []
  }
 ],
 "metadata": {
  "kernelspec": {
   "display_name": "Python 3",
   "language": "python",
   "name": "python3"
  },
  "language_info": {
   "codemirror_mode": {
    "name": "ipython",
    "version": 3
   },
   "file_extension": ".py",
   "mimetype": "text/x-python",
   "name": "python",
   "nbconvert_exporter": "python",
   "pygments_lexer": "ipython3",
   "version": "3.7.1"
  }
 },
 "nbformat": 4,
 "nbformat_minor": 2
}
