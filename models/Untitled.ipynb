{
 "cells": [
  {
   "cell_type": "code",
   "execution_count": 14,
   "metadata": {},
   "outputs": [],
   "source": [
    "import pandas as pd\n",
    "import numpy as np\n",
    "import matplotlib.pyplot as plt\n",
    "from scipy.integrate import solve_ivp\n",
    "from scipy.optimize import minimize\n",
    "pd.options.display.float_format = '{:.2f}'.format\n",
    "model_weights = pd.read_excel(\"model_weights.xlsx\")\n",
    "parameters = [\"county\",\"days\",\"N\",\"initial\",\"min_c\",\"r0\",\"mean_duration\",\"mean_latency\"]\n",
    "exposed_proj = []\n",
    "infected_proj = []\n",
    "county,days,N,initial,min_c,r0,mean_duration,mean_latency = model_weights.loc[0]\n",
    "def SEIR(t,y):\n",
    "    S = y[0]\n",
    "    E = y[1]\n",
    "    I = y[1]\n",
    "    R = y[2] \n",
    "    d_S = -S/N * (I*r0/mean_duration)   \n",
    "    d_E =  (S/N * (I*r0/mean_duration)) - (E/mean_latency)\n",
    "    d_I = E/mean_latency - I/mean_duration\n",
    "    d_R = I/mean_duration\n",
    "    return([d_S,d_E,d_I,d_R])\n",
    "for i in range(len(model_weights)):\n",
    "    county,days,N,initial,min_c,r0,mean_duration,mean_latency = model_weights.loc[i]\n",
    "    sol = solve_ivp(SEIR,[0,days+5],[N,min_c*initial,initial,0],t_eval=np.arange(0,days))\n",
    "    exposed_proj.append([county,sol.y[1]])\n",
    "    infected_proj.append([county,sol.y[2]])\n",
    "exposed_df = pd.DataFrame(exposed_proj)\n",
    "infected_df = pd.DataFrame(infected_proj)\n",
    "exposed_df.to_excel(\"../data/processed/exposed_output.xlsx\")\n",
    "infected_df.to_excel(\"../data/infected_output.xlsx\")\n"
   ]
  },
  {
   "cell_type": "code",
   "execution_count": null,
   "metadata": {},
   "outputs": [],
   "source": []
  }
 ],
 "metadata": {
  "kernelspec": {
   "display_name": "Python 3",
   "language": "python",
   "name": "python3"
  },
  "language_info": {
   "codemirror_mode": {
    "name": "ipython",
    "version": 3
   },
   "file_extension": ".py",
   "mimetype": "text/x-python",
   "name": "python",
   "nbconvert_exporter": "python",
   "pygments_lexer": "ipython3",
   "version": "3.7.1"
  }
 },
 "nbformat": 4,
 "nbformat_minor": 2
}
